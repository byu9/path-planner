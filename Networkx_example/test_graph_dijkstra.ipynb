{
 "cells": [
  {
   "cell_type": "code",
   "execution_count": 1,
   "id": "034de6d2",
   "metadata": {},
   "outputs": [],
   "source": [
    "import networkx as nx\n",
    "\n",
    "# Load the graph from a GraphML file\n",
    "G = nx.read_graphml(\"graph.graphml\")\n",
    "\n",
    "# Convert node labels to integers if they are strings\n",
    "G = nx.relabel_nodes(G, lambda x: int(x))\n",
    "\n",
    "# Example: Find the shortest path from node 5 to node 14\n",
    "start_node = 5\n",
    "end_node = 14\n",
    "\n",
    "def dijkstra_shortest_path(start_node,end_node):\n",
    "\n",
    "    try:\n",
    "        shortest_path = nx.dijkstra_path(G, start_node, end_node)\n",
    "        path_length = nx.dijkstra_path_length(G, start_node, end_node)\n",
    "        print(\"Shortest path:\", shortest_path)\n",
    "        print(\"Path length:\", path_length)\n",
    "    except nx.NetworkXNoPath:\n",
    "        print(\"No path found between the nodes\")"
   ]
  },
  {
   "cell_type": "code",
   "execution_count": 2,
   "id": "bfd40f9a",
   "metadata": {},
   "outputs": [
    {
     "name": "stdout",
     "output_type": "stream",
     "text": [
      "Shortest path: [69, 75, 83, 23, 9, 22, 40]\n",
      "Path length: 81\n"
     ]
    }
   ],
   "source": [
    "dijkstra_shortest_path(69,40)"
   ]
  },
  {
   "cell_type": "code",
   "execution_count": 3,
   "id": "43a38449",
   "metadata": {},
   "outputs": [
    {
     "name": "stdout",
     "output_type": "stream",
     "text": [
      "Shortest path: [10, 98, 94, 45, 41]\n",
      "Path length: 44\n"
     ]
    }
   ],
   "source": [
    "dijkstra_shortest_path(10,41)"
   ]
  },
  {
   "cell_type": "code",
   "execution_count": 4,
   "id": "abfc8ae0",
   "metadata": {},
   "outputs": [
    {
     "name": "stdout",
     "output_type": "stream",
     "text": [
      "Shortest path: [98, 87, 70, 26, 19, 92, 27, 65, 37]\n",
      "Path length: 54\n"
     ]
    }
   ],
   "source": [
    "dijkstra_shortest_path(98,37)"
   ]
  },
  {
   "cell_type": "code",
   "execution_count": 5,
   "id": "6d54e30e",
   "metadata": {},
   "outputs": [
    {
     "name": "stdout",
     "output_type": "stream",
     "text": [
      "Shortest path: [88, 90]\n",
      "Path length: 15\n"
     ]
    }
   ],
   "source": [
    "dijkstra_shortest_path(88,90)"
   ]
  },
  {
   "cell_type": "code",
   "execution_count": 6,
   "id": "a0e2cbb6",
   "metadata": {},
   "outputs": [
    {
     "name": "stdout",
     "output_type": "stream",
     "text": [
      "Shortest path: [30, 18, 48, 72, 97, 55]\n",
      "Path length: 85\n"
     ]
    }
   ],
   "source": [
    "dijkstra_shortest_path(30,55)"
   ]
  },
  {
   "cell_type": "code",
   "execution_count": 7,
   "id": "9bb8397e",
   "metadata": {},
   "outputs": [
    {
     "name": "stdout",
     "output_type": "stream",
     "text": [
      "Shortest path: [32, 95, 80, 34, 68, 29]\n",
      "Path length: 74\n"
     ]
    }
   ],
   "source": [
    "dijkstra_shortest_path(32,29)"
   ]
  },
  {
   "cell_type": "code",
   "execution_count": 8,
   "id": "906a206d",
   "metadata": {},
   "outputs": [
    {
     "name": "stdout",
     "output_type": "stream",
     "text": [
      "Shortest path: [19, 92, 27, 85, 31, 9, 22]\n",
      "Path length: 60\n"
     ]
    }
   ],
   "source": [
    "dijkstra_shortest_path(19,22)"
   ]
  },
  {
   "cell_type": "code",
   "execution_count": 9,
   "id": "765aa321",
   "metadata": {},
   "outputs": [
    {
     "name": "stdout",
     "output_type": "stream",
     "text": [
      "Shortest path: [28, 9, 22, 25]\n",
      "Path length: 57\n"
     ]
    }
   ],
   "source": [
    "dijkstra_shortest_path(28,25)"
   ]
  },
  {
   "cell_type": "code",
   "execution_count": 10,
   "id": "a84887fa",
   "metadata": {},
   "outputs": [
    {
     "name": "stdout",
     "output_type": "stream",
     "text": [
      "Shortest path: [82, 27, 65, 37, 72, 44]\n",
      "Path length: 87\n"
     ]
    }
   ],
   "source": [
    "dijkstra_shortest_path(82,44)"
   ]
  },
  {
   "cell_type": "code",
   "execution_count": 11,
   "id": "d24f1b07",
   "metadata": {},
   "outputs": [
    {
     "name": "stdout",
     "output_type": "stream",
     "text": [
      "Shortest path: [34, 68, 16, 94, 45, 49]\n",
      "Path length: 62\n"
     ]
    }
   ],
   "source": [
    "dijkstra_shortest_path(34,49)"
   ]
  },
  {
   "cell_type": "code",
   "execution_count": null,
   "id": "ca4362bc",
   "metadata": {},
   "outputs": [],
   "source": []
  }
 ],
 "metadata": {
  "kernelspec": {
   "display_name": "Python 3 (ipykernel)",
   "language": "python",
   "name": "python3"
  },
  "language_info": {
   "codemirror_mode": {
    "name": "ipython",
    "version": 3
   },
   "file_extension": ".py",
   "mimetype": "text/x-python",
   "name": "python",
   "nbconvert_exporter": "python",
   "pygments_lexer": "ipython3",
   "version": "3.11.5"
  }
 },
 "nbformat": 4,
 "nbformat_minor": 5
}
