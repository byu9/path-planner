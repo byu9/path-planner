{
 "cells": [
  {
   "cell_type": "code",
   "execution_count": 1,
   "id": "05b171cb",
   "metadata": {},
   "outputs": [],
   "source": [
    "import networkx as nx\n",
    "import random\n",
    "\n",
    "# Create a directed graph\n",
    "G = nx.DiGraph()\n",
    "\n",
    "# Add nodes\n",
    "num_nodes = 100\n",
    "nodes = range(num_nodes)\n",
    "G.add_nodes_from(nodes)\n",
    "\n",
    "# Add edges with random weights but less densely connected\n",
    "for i in nodes:\n",
    "    for j in nodes:\n",
    "        if i != j and random.random() < 0.05:  # 5% probability of adding an edge\n",
    "            G.add_edge(i, j, weight=random.randint(1, 50))\n",
    "\n",
    "# Save the graph to a GraphML file\n",
    "nx.write_graphml(G, \"graph.graphml\")"
   ]
  },
  {
   "cell_type": "code",
   "execution_count": null,
   "id": "8d5dc3ce",
   "metadata": {},
   "outputs": [],
   "source": []
  }
 ],
 "metadata": {
  "kernelspec": {
   "display_name": "Python 3 (ipykernel)",
   "language": "python",
   "name": "python3"
  },
  "language_info": {
   "codemirror_mode": {
    "name": "ipython",
    "version": 3
   },
   "file_extension": ".py",
   "mimetype": "text/x-python",
   "name": "python",
   "nbconvert_exporter": "python",
   "pygments_lexer": "ipython3",
   "version": "3.11.5"
  }
 },
 "nbformat": 4,
 "nbformat_minor": 5
}
